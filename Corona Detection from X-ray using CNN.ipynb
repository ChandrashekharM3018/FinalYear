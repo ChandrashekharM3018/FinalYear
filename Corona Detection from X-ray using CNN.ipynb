{
  "nbformat": 4,
  "nbformat_minor": 0,
  "metadata": {
    "colab": {
      "name": "Untitled20.ipynb",
      "provenance": [],
      "mount_file_id": "1V3LywMi6nQtYvNRJ2qkGFFT_zo2HJiAM",
      "authorship_tag": "ABX9TyPBj7YnpzixrxjL7Cw/i9sa",
      "include_colab_link": true
    },
    "kernelspec": {
      "name": "python3",
      "display_name": "Python 3"
    },
    "accelerator": "GPU"
  },
  "cells": [
    {
      "cell_type": "markdown",
      "metadata": {
        "id": "view-in-github",
        "colab_type": "text"
      },
      "source": [
        "<a href=\"https://colab.research.google.com/github/ChandrashekharM3018/FinalYear/blob/main/Corona%20Detection%20from%20X-ray%20using%20CNN.ipynb\" target=\"_parent\"><img src=\"https://colab.research.google.com/assets/colab-badge.svg\" alt=\"Open In Colab\"/></a>"
      ]
    },
    {
      "cell_type": "code",
      "metadata": {
        "colab": {
          "base_uri": "https://localhost:8080/"
        },
        "id": "56doASABVlHo",
        "outputId": "609905e9-8aef-436d-d89a-fd4eb3013403"
      },
      "source": [
        "import cv2\r\n",
        "import os\r\n",
        "\r\n",
        "data_path = \"/content/drive/MyDrive/Copy of corona/train\"\r\n",
        "categories = os.listdir(data_path)\r\n",
        "labels = [i for i in range(len(categories))]\r\n",
        "\r\n",
        "label_dict = dict(zip(categories,labels))\r\n",
        "\r\n",
        "print(label_dict)\r\n",
        "print(categories)\r\n",
        "print(labels)"
      ],
      "execution_count": 1,
      "outputs": [
        {
          "output_type": "stream",
          "text": [
            "{'corona': 0, 'normal': 1}\n",
            "['corona', 'normal']\n",
            "[0, 1]\n"
          ],
          "name": "stdout"
        }
      ]
    },
    {
      "cell_type": "code",
      "metadata": {
        "id": "IaDPBomnVpzW"
      },
      "source": [
        "img_size=100\r\n",
        "data=[]\r\n",
        "target=[]\r\n",
        "\r\n",
        "\r\n",
        "for category in categories:\r\n",
        "    folder_path=os.path.join(data_path,category)\r\n",
        "    img_names=os.listdir(folder_path)\r\n",
        "        \r\n",
        "    for img_name in img_names:\r\n",
        "        img_path=os.path.join(folder_path,img_name)\r\n",
        "        img=cv2.imread(img_path)\r\n",
        "\r\n",
        "        try:\r\n",
        "            gray=cv2.cvtColor(img,cv2.COLOR_BGR2GRAY)           \r\n",
        "            resized=cv2.resize(gray,(img_size,img_size))\r\n",
        "            data.append(resized)\r\n",
        "            target.append(label_dict[category])\r\n",
        "\r\n",
        "        except Exception as e:\r\n",
        "            print('Exception:',e)"
      ],
      "execution_count": 2,
      "outputs": []
    },
    {
      "cell_type": "code",
      "metadata": {
        "id": "e1uL9lWbVytY"
      },
      "source": [
        "import numpy as np\r\n",
        "\r\n",
        "data=np.array(data)/255.0\r\n",
        "data=np.reshape(data,(data.shape[0],img_size,img_size,1))\r\n",
        "target=np.array(target)\r\n",
        "\r\n",
        "from keras.utils import np_utils\r\n",
        "\r\n",
        "new_target=np_utils.to_categorical(target)"
      ],
      "execution_count": 3,
      "outputs": []
    },
    {
      "cell_type": "code",
      "metadata": {
        "id": "YL73ELLvWEF4"
      },
      "source": [
        "np.save('data',data)\r\n",
        "np.save('target',new_target)"
      ],
      "execution_count": 4,
      "outputs": []
    },
    {
      "cell_type": "code",
      "metadata": {
        "id": "Bl_r2JimWEIu"
      },
      "source": [
        "data=np.load('data.npy')\r\n",
        "target=np.load('target.npy')"
      ],
      "execution_count": 5,
      "outputs": []
    },
    {
      "cell_type": "code",
      "metadata": {
        "id": "GA0A94b3WELP"
      },
      "source": [
        "from keras.models import Sequential\r\n",
        "from keras.layers import Dense,Activation,Flatten,Dropout\r\n",
        "from keras.layers import Conv2D,MaxPooling2D\r\n",
        "from keras.callbacks import ModelCheckpoint\r\n",
        "\r\n",
        "model=Sequential()\r\n",
        "\r\n",
        "model.add(Conv2D(200,(3,3),input_shape=data.shape[1:]))\r\n",
        "model.add(Activation('relu'))\r\n",
        "model.add(MaxPooling2D(pool_size=(2,2)))\r\n",
        "#The first CNN layer followed by Relu and MaxPooling layers\r\n",
        "\r\n",
        "model.add(Conv2D(100,(3,3)))\r\n",
        "model.add(Activation('relu'))\r\n",
        "model.add(MaxPooling2D(pool_size=(2,2)))\r\n",
        "\r\n",
        "model.add(Flatten())\r\n",
        "model.add(Dense(50,activation='relu'))\r\n",
        "#Dense layer of 64 neurons\r\n",
        "model.add(Dense(2,activation='softmax'))\r\n",
        "\r\n",
        "model.compile(loss='binary_crossentropy',optimizer='adam',metrics=['accuracy'])"
      ],
      "execution_count": 6,
      "outputs": []
    },
    {
      "cell_type": "code",
      "metadata": {
        "id": "Snys1ZedWEN-"
      },
      "source": [
        "from sklearn.model_selection import train_test_split\r\n",
        "train_data,test_data,train_target,test_target=train_test_split(data,target,test_size=0.1)"
      ],
      "execution_count": 7,
      "outputs": []
    },
    {
      "cell_type": "code",
      "metadata": {
        "colab": {
          "base_uri": "https://localhost:8080/"
        },
        "id": "_kzuCF2ZX3u6",
        "outputId": "9914a97f-b75e-4beb-aaa7-ec835e00d33f"
      },
      "source": [
        "checkpoint = ModelCheckpoint('model-{epoch:03d}.model',monitor='val_loss',verbose=0,save_best_only=True,mode='auto')\r\n",
        "history=model.fit(train_data,train_target,epochs=20,callbacks=[checkpoint],validation_split=0.2)"
      ],
      "execution_count": 8,
      "outputs": [
        {
          "output_type": "stream",
          "text": [
            "Epoch 1/20\n",
            "6/6 [==============================] - ETA: 0s - loss: 1.1192 - accuracy: 0.4457WARNING:tensorflow:From /usr/local/lib/python3.6/dist-packages/tensorflow/python/training/tracking/tracking.py:111: Model.state_updates (from tensorflow.python.keras.engine.training) is deprecated and will be removed in a future version.\n",
            "Instructions for updating:\n",
            "This property should not be used in TensorFlow 2.0, as updates are applied automatically.\n",
            "WARNING:tensorflow:From /usr/local/lib/python3.6/dist-packages/tensorflow/python/training/tracking/tracking.py:111: Layer.updates (from tensorflow.python.keras.engine.base_layer) is deprecated and will be removed in a future version.\n",
            "Instructions for updating:\n",
            "This property should not be used in TensorFlow 2.0, as updates are applied automatically.\n",
            "INFO:tensorflow:Assets written to: model-001.model/assets\n",
            "6/6 [==============================] - 1s 207ms/step - loss: 1.1192 - accuracy: 0.4457 - val_loss: 0.6956 - val_accuracy: 0.4091\n",
            "Epoch 2/20\n",
            "5/6 [========================>.....] - ETA: 0s - loss: 0.6907 - accuracy: 0.5625INFO:tensorflow:Assets written to: model-002.model/assets\n",
            "6/6 [==============================] - 1s 141ms/step - loss: 0.6903 - accuracy: 0.5943 - val_loss: 0.6851 - val_accuracy: 0.9773\n",
            "Epoch 3/20\n",
            "5/6 [========================>.....] - ETA: 0s - loss: 0.6756 - accuracy: 0.9688INFO:tensorflow:Assets written to: model-003.model/assets\n",
            "6/6 [==============================] - 1s 161ms/step - loss: 0.6752 - accuracy: 0.9600 - val_loss: 0.6600 - val_accuracy: 0.7273\n",
            "Epoch 4/20\n",
            "5/6 [========================>.....] - ETA: 0s - loss: 0.6254 - accuracy: 0.7250INFO:tensorflow:Assets written to: model-004.model/assets\n",
            "6/6 [==============================] - 1s 142ms/step - loss: 0.6215 - accuracy: 0.7429 - val_loss: 0.5405 - val_accuracy: 0.9773\n",
            "Epoch 5/20\n",
            "5/6 [========================>.....] - ETA: 0s - loss: 0.4932 - accuracy: 0.9375INFO:tensorflow:Assets written to: model-005.model/assets\n",
            "6/6 [==============================] - 1s 144ms/step - loss: 0.4794 - accuracy: 0.9429 - val_loss: 0.3354 - val_accuracy: 0.9545\n",
            "Epoch 6/20\n",
            "5/6 [========================>.....] - ETA: 0s - loss: 0.3055 - accuracy: 0.9250INFO:tensorflow:Assets written to: model-006.model/assets\n",
            "6/6 [==============================] - 1s 148ms/step - loss: 0.2982 - accuracy: 0.9257 - val_loss: 0.1801 - val_accuracy: 0.9773\n",
            "Epoch 7/20\n",
            "5/6 [========================>.....] - ETA: 0s - loss: 0.1448 - accuracy: 0.9500INFO:tensorflow:Assets written to: model-007.model/assets\n",
            "6/6 [==============================] - 1s 166ms/step - loss: 0.1408 - accuracy: 0.9486 - val_loss: 0.1031 - val_accuracy: 0.9773\n",
            "Epoch 8/20\n",
            "5/6 [========================>.....] - ETA: 0s - loss: 0.0718 - accuracy: 0.9812INFO:tensorflow:Assets written to: model-008.model/assets\n",
            "6/6 [==============================] - 1s 144ms/step - loss: 0.0712 - accuracy: 0.9829 - val_loss: 0.0579 - val_accuracy: 0.9773\n",
            "Epoch 9/20\n",
            "5/6 [========================>.....] - ETA: 0s - loss: 0.0462 - accuracy: 0.9812INFO:tensorflow:Assets written to: model-009.model/assets\n",
            "6/6 [==============================] - 1s 144ms/step - loss: 0.0426 - accuracy: 0.9829 - val_loss: 0.0338 - val_accuracy: 0.9773\n",
            "Epoch 10/20\n",
            "6/6 [==============================] - 0s 35ms/step - loss: 0.0345 - accuracy: 0.9829 - val_loss: 0.1403 - val_accuracy: 0.9773\n",
            "Epoch 11/20\n",
            "5/6 [========================>.....] - ETA: 0s - loss: 0.0311 - accuracy: 1.0000INFO:tensorflow:Assets written to: model-011.model/assets\n",
            "6/6 [==============================] - 1s 143ms/step - loss: 0.0307 - accuracy: 1.0000 - val_loss: 0.0112 - val_accuracy: 1.0000\n",
            "Epoch 12/20\n",
            "6/6 [==============================] - 0s 37ms/step - loss: 0.0249 - accuracy: 0.9886 - val_loss: 0.0504 - val_accuracy: 0.9773\n",
            "Epoch 13/20\n",
            "5/6 [========================>.....] - ETA: 0s - loss: 0.0167 - accuracy: 0.9937INFO:tensorflow:Assets written to: model-013.model/assets\n",
            "6/6 [==============================] - 1s 143ms/step - loss: 0.0191 - accuracy: 0.9943 - val_loss: 0.0106 - val_accuracy: 1.0000\n",
            "Epoch 14/20\n",
            "6/6 [==============================] - 0s 36ms/step - loss: 0.0081 - accuracy: 1.0000 - val_loss: 0.0795 - val_accuracy: 0.9773\n",
            "Epoch 15/20\n",
            "5/6 [========================>.....] - ETA: 0s - loss: 0.0086 - accuracy: 1.0000INFO:tensorflow:Assets written to: model-015.model/assets\n",
            "6/6 [==============================] - 1s 176ms/step - loss: 0.0079 - accuracy: 1.0000 - val_loss: 0.0086 - val_accuracy: 1.0000\n",
            "Epoch 16/20\n",
            "6/6 [==============================] - 0s 36ms/step - loss: 0.0307 - accuracy: 0.9886 - val_loss: 0.0520 - val_accuracy: 0.9773\n",
            "Epoch 17/20\n",
            "5/6 [========================>.....] - ETA: 0s - loss: 0.0057 - accuracy: 1.0000INFO:tensorflow:Assets written to: model-017.model/assets\n",
            "6/6 [==============================] - 1s 142ms/step - loss: 0.0063 - accuracy: 1.0000 - val_loss: 0.0044 - val_accuracy: 1.0000\n",
            "Epoch 18/20\n",
            "6/6 [==============================] - 0s 36ms/step - loss: 0.0081 - accuracy: 1.0000 - val_loss: 0.0092 - val_accuracy: 1.0000\n",
            "Epoch 19/20\n",
            "6/6 [==============================] - 0s 36ms/step - loss: 0.0049 - accuracy: 1.0000 - val_loss: 0.0275 - val_accuracy: 0.9773\n",
            "Epoch 20/20\n",
            "6/6 [==============================] - 0s 36ms/step - loss: 0.0031 - accuracy: 1.0000 - val_loss: 0.0098 - val_accuracy: 1.0000\n"
          ],
          "name": "stdout"
        }
      ]
    },
    {
      "cell_type": "code",
      "metadata": {
        "colab": {
          "base_uri": "https://localhost:8080/",
          "height": 279
        },
        "id": "0XxGXwMJX3xi",
        "outputId": "0acf0204-5278-4c62-e03b-d2396aac2ad1"
      },
      "source": [
        "from matplotlib import pyplot as plt\r\n",
        "\r\n",
        "plt.plot(history.history['loss'],'r',label='training loss')\r\n",
        "plt.plot(history.history['val_loss'],label='validation loss')\r\n",
        "plt.xlabel('#epochs')\r\n",
        "plt.ylabel('loss')\r\n",
        "plt.legend()\r\n",
        "plt.show()"
      ],
      "execution_count": 9,
      "outputs": [
        {
          "output_type": "display_data",
          "data": {
            "image/png": "[encoded data removed]",
            "text/plain": [
              "<Figure size 432x288 with 1 Axes>"
            ]
          },
          "metadata": {
            "tags": [],
            "needs_background": "light"
          }
        }
      ]
    },
    {
      "cell_type": "code",
      "metadata": {
        "colab": {
          "base_uri": "https://localhost:8080/"
        },
        "id": "ao88Ary3X32S",
        "outputId": "eeea36df-b919-4e5f-ea7f-578bc29d7b32"
      },
      "source": [
        "print(model.evaluate(test_data,test_target))"
      ],
      "execution_count": 10,
      "outputs": [
        {
          "output_type": "stream",
          "text": [
            "1/1 [==============================] - 0s 2ms/step - loss: 0.0055 - accuracy: 1.0000\n",
            "[0.005508054047822952, 1.0]\n"
          ],
          "name": "stdout"
        }
      ]
    },
    {
      "cell_type": "code",
      "metadata": {
        "id": "GovoWZ4RVy0V"
      },
      "source": [
        ""
      ],
      "execution_count": 10,
      "outputs": []
    },
    {
      "cell_type": "code",
      "metadata": {
        "id": "1yTTfHbjYdIx"
      },
      "source": [
        "from keras.models import load_model\r\n",
        "from keras.preprocessing import image\r\n",
        "import numpy as np\r\n",
        "import cv2\r\n",
        "import matplotlib.pyplot as plt"
      ],
      "execution_count": 11,
      "outputs": []
    },
    {
      "cell_type": "code",
      "metadata": {
        "id": "s8o4mEx2y19h"
      },
      "source": [
        "import tensorflow as tf \r\n",
        "model = tf.keras.models.load_model('/content/model-017.model')\r\n",
        "model.compile(loss='binary_crossentropy',\r\n",
        "              optimizer='adam',\r\n",
        "              metrics=['accuracy'])"
      ],
      "execution_count": 14,
      "outputs": []
    },
    {
      "cell_type": "code",
      "metadata": {
        "colab": {
          "base_uri": "https://localhost:8080/",
          "height": 319
        },
        "id": "Ota2DivAzGST",
        "outputId": "4c1700a7-9bc8-4e1d-fc4f-59eca7e106a8"
      },
      "source": [
        "img = image.load_img('/content/drive/MyDrive/Copy of corona/test/normal/IM-0115-0001.jpeg', target_size=(100, 100))\r\n",
        "imgplot = plt.imshow(img)\r\n",
        "x = image.img_to_array(img)\r\n",
        "x = tf.image.rgb_to_grayscale(x)\r\n",
        "x = np.expand_dims(x, axis=0)\r\n",
        "x = x/255.0\r\n",
        "\r\n",
        "classes = model.predict_classes(x, batch_size=10)\r\n",
        "if classes == [0]:\r\n",
        "   print(\" \\n\\n Prediction : corona\")\r\n",
        "else:\r\n",
        "   print(\"\\n\\n Prediction : Normal\")"
      ],
      "execution_count": 15,
      "outputs": [
        {
          "output_type": "stream",
          "text": [
            "\n",
            "\n",
            " Prediction : Normal\n"
          ],
          "name": "stdout"
        },
        {
          "output_type": "display_data",
          "data": {
            "image/png": "[encoded data removed]",
            "text/plain": [
              "<Figure size 432x288 with 1 Axes>"
            ]
          },
          "metadata": {
            "tags": [],
            "needs_background": "light"
          }
        }
      ]
    },
    {
      "cell_type": "code",
      "metadata": {
        "id": "9ANbPi01bKFj"
      },
      "source": [
        ""
      ],
      "execution_count": 13,
      "outputs": []
    },
    {
      "cell_type": "code",
      "metadata": {
        "id": "PrMdKonubKKV"
      },
      "source": [
        ""
      ],
      "execution_count": 13,
      "outputs": []
    },
    {
      "cell_type": "code",
      "metadata": {
        "id": "Ac6fpJcnbKO6"
      },
      "source": [
        ""
      ],
      "execution_count": 13,
      "outputs": []
    }
  ]
}